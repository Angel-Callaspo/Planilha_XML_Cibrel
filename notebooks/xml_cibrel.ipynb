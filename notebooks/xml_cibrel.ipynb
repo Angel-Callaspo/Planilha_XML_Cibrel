{
 "cells": [
  {
   "cell_type": "code",
   "execution_count": 1,
   "metadata": {},
   "outputs": [],
   "source": [
    "import pandas as pd\n",
    "import numpy as np\n",
    "from matplotlib import pyplot as plt\n",
    "import mypy as py\n",
    "import plotly.express as px\n",
    "from pathlib import Path\n",
    "import xmltodict as xl\n",
    "from xml.dom import minidom"
   ]
  },
  {
   "cell_type": "code",
   "execution_count": 2,
   "metadata": {},
   "outputs": [],
   "source": [
    "%load_ext autoreload\n",
    "%autoreload 2\n",
    "\n",
    "import os\n",
    "os.chdir(str(Path(\"../\")))"
   ]
  },
  {
   "cell_type": "code",
   "execution_count": null,
   "metadata": {},
   "outputs": [
    {
     "name": "stdout",
     "output_type": "stream",
     "text": [
      "Numero da nota = 149315\n",
      "PIS = 268.19\n",
      "COFIN = 1235.35\n",
      "ICMS = 2241.27\n"
     ]
    }
   ],
   "source": [
    "with open(\"C:\\\\Users\\\\calla\\\\OneDrive\\\\Escritorio\\\\ANGEL\\\\Planilha_xml_cibrel\\\\Planilha_XML_Cibrel\\\\data\\\\41250301610517001480550010001493151357251700-149315-nfe.xml\",\"r\", encoding='utf-8') as arquivo_xml:\n",
    "    xml = minidom.parse(arquivo_xml)\n",
    "    num_nota = xml.getElementsByTagName(\"nNF\")\n",
    "    pis = xml.getElementsByTagName(\"vPIS\")\n",
    "    cofin = xml.getElementsByTagName(\"vCOFINS\")\n",
    "    icms = xml.getElementsByTagName(\"vICMS\")\n",
    "    item = xml.getElementsByTagName(\"det\")\n",
    "    \n",
    "    lista_item=[]\n",
    "    for i in item:\n",
    "        num_iten = i.attributes['nItem'].value\n",
    "        lista_item.append(num_iten)\n",
    "        \n",
    "    print(f'Numero da nota = {num_nota[0].firstChild.data}') # Para pegar os valores totales seria indice = total de produtos\n",
    "    print(f'PIS = {pis[len(lista_item)].firstChild.data}')\n",
    "    print(f'COFIN = {cofin[len(lista_item)].firstChild.data}')\n",
    "    print(f'ICMS = {icms[len(lista_item)].firstChild.data}')\n",
    "\n",
    "    "
   ]
  },
  {
   "cell_type": "code",
   "execution_count": null,
   "metadata": {},
   "outputs": [],
   "source": []
  }
 ],
 "metadata": {
  "kernelspec": {
   "display_name": "base",
   "language": "python",
   "name": "python3"
  },
  "language_info": {
   "codemirror_mode": {
    "name": "ipython",
    "version": 3
   },
   "file_extension": ".py",
   "mimetype": "text/x-python",
   "name": "python",
   "nbconvert_exporter": "python",
   "pygments_lexer": "ipython3",
   "version": "3.11.7"
  }
 },
 "nbformat": 4,
 "nbformat_minor": 2
}
