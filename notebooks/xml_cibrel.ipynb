{
 "cells": [
  {
   "cell_type": "code",
   "execution_count": 38,
   "metadata": {},
   "outputs": [],
   "source": [
    "import pandas as pd\n",
    "import numpy as np\n",
    "from matplotlib import pyplot as plt\n",
    "import mypy as py\n",
    "import plotly.express as px\n",
    "from pathlib import Path\n",
    "import xmltodict as xl\n",
    "from xml.dom import minidom"
   ]
  },
  {
   "cell_type": "code",
   "execution_count": 39,
   "metadata": {},
   "outputs": [
    {
     "name": "stdout",
     "output_type": "stream",
     "text": [
      "The autoreload extension is already loaded. To reload it, use:\n",
      "  %reload_ext autoreload\n"
     ]
    }
   ],
   "source": [
    "%load_ext autoreload\n",
    "%autoreload 2\n",
    "\n",
    "import os\n",
    "os.chdir(str(Path(\"../\")))"
   ]
  },
  {
   "cell_type": "code",
   "execution_count": 51,
   "metadata": {},
   "outputs": [
    {
     "name": "stdout",
     "output_type": "stream",
     "text": [
      "Numero da nota = 32165\n",
      "PIS = 2.47\n",
      "COFIN = 11.39\n",
      "ICMS = 0.00\n"
     ]
    }
   ],
   "source": [
    "with open(\"C:\\\\Users\\\\calla\\\\OneDrive\\\\Escritorio\\\\ANGEL\\\\Planilha_xml_cibrel\\\\Planilha_XML_Cibrel\\\\data\\\\41250477385797000117550010000321651336732137-nfe.xml\",\"r\", encoding='utf-8') as arquivo_xml:\n",
    "    xml = minidom.parse(arquivo_xml)\n",
    "    num_nota = xml.getElementsByTagName(\"nNF\")\n",
    "    pis = xml.getElementsByTagName(\"vPIS\")\n",
    "    cofin = xml.getElementsByTagName(\"vCOFINS\")\n",
    "    icms = xml.getElementsByTagName(\"vICMS\")\n",
    "\n",
    "       \n",
    "    print(f'Numero da nota = {num_nota[0].firstChild.data}')\n",
    "    print(f'PIS = {pis[0].firstChild.data}')\n",
    "    print(f'COFIN = {cofin[0].firstChild.data}')\n",
    "    print(f'ICMS = {icms[0].firstChild.data}')"
   ]
  },
  {
   "cell_type": "code",
   "execution_count": null,
   "metadata": {},
   "outputs": [],
   "source": []
  }
 ],
 "metadata": {
  "kernelspec": {
   "display_name": "base",
   "language": "python",
   "name": "python3"
  },
  "language_info": {
   "codemirror_mode": {
    "name": "ipython",
    "version": 3
   },
   "file_extension": ".py",
   "mimetype": "text/x-python",
   "name": "python",
   "nbconvert_exporter": "python",
   "pygments_lexer": "ipython3",
   "version": "3.11.7"
  }
 },
 "nbformat": 4,
 "nbformat_minor": 2
}
