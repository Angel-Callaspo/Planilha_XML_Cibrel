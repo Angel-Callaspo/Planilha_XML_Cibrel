{
 "cells": [
  {
   "cell_type": "code",
   "execution_count": 9,
   "metadata": {},
   "outputs": [
    {
     "ename": "ImportError",
     "evalue": "cannot import name 'ploty' from 'matplotlib' (c:\\Users\\calla\\anaconda3\\envs\\xml_cibrel\\Lib\\site-packages\\matplotlib\\__init__.py)",
     "output_type": "error",
     "traceback": [
      "\u001b[31m---------------------------------------------------------------------------\u001b[39m",
      "\u001b[31mImportError\u001b[39m                               Traceback (most recent call last)",
      "\u001b[36mCell\u001b[39m\u001b[36m \u001b[39m\u001b[32mIn[9]\u001b[39m\u001b[32m, line 3\u001b[39m\n\u001b[32m      1\u001b[39m \u001b[38;5;28;01mimport\u001b[39;00m\u001b[38;5;250m \u001b[39m\u001b[34;01mpandas\u001b[39;00m\u001b[38;5;250m \u001b[39m\u001b[38;5;28;01mas\u001b[39;00m\u001b[38;5;250m \u001b[39m\u001b[34;01mpd\u001b[39;00m\n\u001b[32m      2\u001b[39m \u001b[38;5;28;01mimport\u001b[39;00m\u001b[38;5;250m \u001b[39m\u001b[34;01mnumpy\u001b[39;00m\u001b[38;5;250m \u001b[39m\u001b[38;5;28;01mas\u001b[39;00m\u001b[38;5;250m \u001b[39m\u001b[34;01mnp\u001b[39;00m\n\u001b[32m----> \u001b[39m\u001b[32m3\u001b[39m \u001b[38;5;28;01mfrom\u001b[39;00m\u001b[38;5;250m \u001b[39m\u001b[34;01mmatplotlib\u001b[39;00m\u001b[38;5;250m \u001b[39m\u001b[38;5;28;01mimport\u001b[39;00m ploty \u001b[38;5;28;01mas\u001b[39;00m plt\n\u001b[32m      4\u001b[39m \u001b[38;5;28;01mimport\u001b[39;00m\u001b[38;5;250m \u001b[39m\u001b[34;01mmypy\u001b[39;00m\u001b[38;5;250m \u001b[39m\u001b[38;5;28;01mas\u001b[39;00m\u001b[38;5;250m \u001b[39m\u001b[34;01mpy\u001b[39;00m\n\u001b[32m      5\u001b[39m \u001b[38;5;28;01mimport\u001b[39;00m\u001b[38;5;250m \u001b[39m\u001b[34;01mplotly\u001b[39;00m\u001b[34;01m.\u001b[39;00m\u001b[34;01mexpress\u001b[39;00m\u001b[38;5;250m \u001b[39m\u001b[38;5;28;01mas\u001b[39;00m\u001b[38;5;250m \u001b[39m\u001b[34;01mpx\u001b[39;00m\n",
      "\u001b[31mImportError\u001b[39m: cannot import name 'ploty' from 'matplotlib' (c:\\Users\\calla\\anaconda3\\envs\\xml_cibrel\\Lib\\site-packages\\matplotlib\\__init__.py)"
     ]
    }
   ],
   "source": [
    "import pandas as pd\n",
    "import numpy as np\n",
    "from matplotlib import ploty as plt\n",
    "import mypy as py\n",
    "import plotly.express as px\n",
    "from pathlib import Path\n",
    "import xmltodict as xl\n",
    "from xml.dom import minidom"
   ]
  },
  {
   "cell_type": "code",
   "execution_count": 2,
   "metadata": {},
   "outputs": [],
   "source": [
    "%load_ext autoreload\n",
    "%autoreload 2\n",
    "\n",
    "import os\n",
    "os.chdir(str(Path(\"../\")))"
   ]
  },
  {
   "cell_type": "code",
   "execution_count": null,
   "metadata": {},
   "outputs": [
    {
     "name": "stdout",
     "output_type": "stream",
     "text": [
      "Numero da nota = 149315\n",
      "PIS = 268.19\n",
      "COFIN = 1235.35\n",
      "ICMS = 2241.27\n"
     ]
    }
   ],
   "source": [
    "with open(\"C:\\\\Users\\\\calla\\\\OneDrive\\\\Escritorio\\\\ANGEL\\\\Planilha_xml_cibrel\\\\Planilha_XML_Cibrel\\\\data\\\\41250301610517001480550010001493151357251700-149315-nfe.xml\",\"r\", encoding='utf-8') as arquivo_xml:\n",
    "    xml = minidom.parse(arquivo_xml)\n",
    "    num_nota = xml.getElementsByTagName(\"nNF\")\n",
    "    pis = xml.getElementsByTagName(\"vPIS\")\n",
    "    cofin = xml.getElementsByTagName(\"vCOFINS\")\n",
    "    icms = xml.getElementsByTagName(\"vICMS\")\n",
    "    item = xml.getElementsByTagName(\"det\")\n",
    "    \n",
    "    lista_item=[]\n",
    "    for i in item:\n",
    "        num_iten = i.attributes['nItem'].value\n",
    "        lista_item.append(num_iten)\n",
    "        \n",
    "    print(f'Numero da nota = {num_nota[0].firstChild.data}') # Para pegar os valores totales seria indice = total de produtos\n",
    "    print(f'PIS = {pis[len(lista_item)].firstChild.data}')\n",
    "    print(f'COFIN = {cofin[len(lista_item)].firstChild.data}')\n",
    "    print(f'ICMS = {icms[len(lista_item)].firstChild.data}')\n",
    "\n",
    "    "
   ]
  },
  {
   "cell_type": "code",
   "execution_count": null,
   "metadata": {},
   "outputs": [],
   "source": []
  }
 ],
 "metadata": {
  "kernelspec": {
   "display_name": "xml_cibrel",
   "language": "python",
   "name": "python3"
  },
  "language_info": {
   "codemirror_mode": {
    "name": "ipython",
    "version": 3
   },
   "file_extension": ".py",
   "mimetype": "text/x-python",
   "name": "python",
   "nbconvert_exporter": "python",
   "pygments_lexer": "ipython3",
   "version": "3.13.2"
  }
 },
 "nbformat": 4,
 "nbformat_minor": 2
}
